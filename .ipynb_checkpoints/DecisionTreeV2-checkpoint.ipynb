{
 "cells": [
  {
   "cell_type": "code",
   "execution_count": 1,
   "metadata": {},
   "outputs": [],
   "source": [
    "import pandas as pd\n",
    "import matplotlib.pyplot as plt\n",
    "from sklearn.model_selection import KFold\n",
    "from sklearn.metrics import accuracy_score, f1_score, precision_score, recall_score,confusion_matrix,classification_report\n",
    "from sklearn import preprocessing\n",
    "from sklearn.preprocessing import Normalizer,MinMaxScaler\n",
    "from sklearn.tree import DecisionTreeClassifier\n",
    "from sklearn import tree\n",
    "import numpy as np\n",
    "%matplotlib inline"
   ]
  },
  {
   "cell_type": "markdown",
   "metadata": {},
   "source": [
    "<h2>Função de scores</h2>"
   ]
  },
  {
   "cell_type": "code",
   "execution_count": 11,
   "metadata": {},
   "outputs": [],
   "source": [
    "def scores(y_test,prediction):\n",
    "#     print(\"Accuracy: \" + str(accuracy_score(y_test, prediction) * 100) + \"%\")\n",
    "#     print(\"Precision: \" + str(precision_score(y_test, prediction) * 100) + \"%\")\n",
    "#     print(\"F1 score: \" + str(f1_score(y_test, prediction) * 100) + \"%\")\n",
    "#     print(\"Recall: \" + str(recall_score(y_test, prediction) * 100) + \"%\")\n",
    "    scores = []\n",
    "    scores.append(accuracy_score(y_test, prediction) * 100)\n",
    "    scores.append(precision_score(y_test, prediction) * 100)\n",
    "    scores.append(f1_score(y_test, prediction) * 100)\n",
    "    scores.append(recall_score(y_test, prediction) * 100) \n",
    "#     print('Accuracy:',accuracy_score(y_test, prediction) * 100,'%')\n",
    "#     print(confusion_matrix(y_test,prediction))\n",
    "#     print(classification_report(y_test, prediction, target_names=[\"red wine\",\"white wine\"]))\n",
    "    return scores"
   ]
  },
  {
   "cell_type": "markdown",
   "metadata": {},
   "source": [
    "<h2>Kfold</h2>"
   ]
  },
  {
   "cell_type": "code",
   "execution_count": 9,
   "metadata": {},
   "outputs": [],
   "source": [
    "def cross_validation(dados,clf,folds=10):\n",
    "    scor = []\n",
    "    kf = KFold(n_splits=folds)\n",
    "    for train_index, test_index in kf.split(dados):\n",
    "        X_train, X_test = dados.iloc[train_index], dados.iloc[test_index]\n",
    "        y_train, y_test = Y[train_index], Y[test_index]\n",
    "        model = clf.fit(X_train,y_train)\n",
    "        prediction = model.predict(X_test)\n",
    "        scor.append(scores(y_test,prediction))\n",
    "    return scor"
   ]
  },
  {
   "cell_type": "markdown",
   "metadata": {},
   "source": [
    "<h2>Plotar graficos de comparação</h2>"
   ]
  },
  {
   "cell_type": "code",
   "execution_count": 42,
   "metadata": {},
   "outputs": [],
   "source": [
    "import matplotlib\n",
    "font = {'family' : 'normal',\n",
    "        'weight' : 'bold',\n",
    "        'size'   : 22}\n",
    "\n",
    "matplotlib.rc('font', **font)\n",
    "def plot_graph(scor):\n",
    "    measures = [\"accuracy\",\"precision\",\"f1-score\",\"recall\"]\n",
    "    data = {s:{'Run '+str(i):scor[i][k] for i in range(10)}for k,s in enumerate(measures)}\n",
    "    df = pd.DataFrame(data)\n",
    "\n",
    "    df.plot(kind='barh',figsize=(20,20))\n",
    "\n",
    "    for i in range(98,101):\n",
    "        plt.axvline(x=i, color='k', linestyle='--')\n",
    "\n",
    "    plt.xlim(97,101)\n",
    "    plt.title('Decision Tree x Entropy x all_features')\n",
    "    plt.savefig('images_graphs/dt6.png')\n",
    "    plt.show()"
   ]
  },
  {
   "cell_type": "markdown",
   "metadata": {},
   "source": [
    "<h2>Carregando dataset</h2>"
   ]
  },
  {
   "cell_type": "code",
   "execution_count": 6,
   "metadata": {},
   "outputs": [
    {
     "data": {
      "text/html": [
       "<div>\n",
       "<style scoped>\n",
       "    .dataframe tbody tr th:only-of-type {\n",
       "        vertical-align: middle;\n",
       "    }\n",
       "\n",
       "    .dataframe tbody tr th {\n",
       "        vertical-align: top;\n",
       "    }\n",
       "\n",
       "    .dataframe thead th {\n",
       "        text-align: right;\n",
       "    }\n",
       "</style>\n",
       "<table border=\"1\" class=\"dataframe\">\n",
       "  <thead>\n",
       "    <tr style=\"text-align: right;\">\n",
       "      <th></th>\n",
       "      <th>fixed acidity</th>\n",
       "      <th>volatile acidity</th>\n",
       "      <th>citric acid</th>\n",
       "      <th>residual sugar</th>\n",
       "      <th>chlorides</th>\n",
       "      <th>free sulfur dioxide</th>\n",
       "      <th>total sulfur dioxide</th>\n",
       "      <th>density</th>\n",
       "      <th>pH</th>\n",
       "      <th>sulphates</th>\n",
       "      <th>alcohol</th>\n",
       "      <th>quality</th>\n",
       "      <th>type</th>\n",
       "    </tr>\n",
       "  </thead>\n",
       "  <tbody>\n",
       "    <tr>\n",
       "      <th>0</th>\n",
       "      <td>7.4</td>\n",
       "      <td>0.160</td>\n",
       "      <td>0.30</td>\n",
       "      <td>13.70</td>\n",
       "      <td>0.056</td>\n",
       "      <td>33.0</td>\n",
       "      <td>168.0</td>\n",
       "      <td>0.99825</td>\n",
       "      <td>2.90</td>\n",
       "      <td>0.44</td>\n",
       "      <td>8.7</td>\n",
       "      <td>7</td>\n",
       "      <td>1</td>\n",
       "    </tr>\n",
       "    <tr>\n",
       "      <th>1</th>\n",
       "      <td>6.5</td>\n",
       "      <td>0.360</td>\n",
       "      <td>0.31</td>\n",
       "      <td>13.55</td>\n",
       "      <td>0.053</td>\n",
       "      <td>20.0</td>\n",
       "      <td>113.0</td>\n",
       "      <td>0.99544</td>\n",
       "      <td>3.20</td>\n",
       "      <td>0.56</td>\n",
       "      <td>11.0</td>\n",
       "      <td>6</td>\n",
       "      <td>1</td>\n",
       "    </tr>\n",
       "    <tr>\n",
       "      <th>2</th>\n",
       "      <td>8.3</td>\n",
       "      <td>0.310</td>\n",
       "      <td>0.39</td>\n",
       "      <td>2.40</td>\n",
       "      <td>0.078</td>\n",
       "      <td>17.0</td>\n",
       "      <td>43.0</td>\n",
       "      <td>0.99444</td>\n",
       "      <td>3.31</td>\n",
       "      <td>0.77</td>\n",
       "      <td>12.5</td>\n",
       "      <td>7</td>\n",
       "      <td>0</td>\n",
       "    </tr>\n",
       "    <tr>\n",
       "      <th>3</th>\n",
       "      <td>8.1</td>\n",
       "      <td>0.785</td>\n",
       "      <td>0.52</td>\n",
       "      <td>2.00</td>\n",
       "      <td>0.122</td>\n",
       "      <td>37.0</td>\n",
       "      <td>153.0</td>\n",
       "      <td>0.99690</td>\n",
       "      <td>3.21</td>\n",
       "      <td>0.69</td>\n",
       "      <td>9.3</td>\n",
       "      <td>5</td>\n",
       "      <td>0</td>\n",
       "    </tr>\n",
       "    <tr>\n",
       "      <th>4</th>\n",
       "      <td>6.5</td>\n",
       "      <td>0.240</td>\n",
       "      <td>0.38</td>\n",
       "      <td>1.00</td>\n",
       "      <td>0.027</td>\n",
       "      <td>31.0</td>\n",
       "      <td>90.0</td>\n",
       "      <td>0.98926</td>\n",
       "      <td>3.24</td>\n",
       "      <td>0.36</td>\n",
       "      <td>12.3</td>\n",
       "      <td>6</td>\n",
       "      <td>1</td>\n",
       "    </tr>\n",
       "  </tbody>\n",
       "</table>\n",
       "</div>"
      ],
      "text/plain": [
       "   fixed acidity  volatile acidity  citric acid  residual sugar  chlorides  \\\n",
       "0            7.4             0.160         0.30           13.70      0.056   \n",
       "1            6.5             0.360         0.31           13.55      0.053   \n",
       "2            8.3             0.310         0.39            2.40      0.078   \n",
       "3            8.1             0.785         0.52            2.00      0.122   \n",
       "4            6.5             0.240         0.38            1.00      0.027   \n",
       "\n",
       "   free sulfur dioxide  total sulfur dioxide  density    pH  sulphates  \\\n",
       "0                 33.0                 168.0  0.99825  2.90       0.44   \n",
       "1                 20.0                 113.0  0.99544  3.20       0.56   \n",
       "2                 17.0                  43.0  0.99444  3.31       0.77   \n",
       "3                 37.0                 153.0  0.99690  3.21       0.69   \n",
       "4                 31.0                  90.0  0.98926  3.24       0.36   \n",
       "\n",
       "   alcohol  quality  type  \n",
       "0      8.7        7     1  \n",
       "1     11.0        6     1  \n",
       "2     12.5        7     0  \n",
       "3      9.3        5     0  \n",
       "4     12.3        6     1  "
      ]
     },
     "execution_count": 6,
     "metadata": {},
     "output_type": "execute_result"
    }
   ],
   "source": [
    "#carregando dataset de vinhos brancos e vermelhos\n",
    "wines = pd.read_csv('wines.csv',sep=\",\")\n",
    "#separando dados e saidas\n",
    "X = wines.iloc[:,0:12]\n",
    "Y = wines.iloc[:,-1]\n",
    "wines.head()"
   ]
  },
  {
   "cell_type": "markdown",
   "metadata": {},
   "source": [
    "<h2>Pre-processamento</h2>"
   ]
  },
  {
   "cell_type": "code",
   "execution_count": 7,
   "metadata": {},
   "outputs": [
    {
     "name": "stderr",
     "output_type": "stream",
     "text": [
      "/usr/local/lib/python3.6/dist-packages/sklearn/preprocessing/data.py:625: DataConversionWarning: Data with input dtype int64, float64 were all converted to float64 by StandardScaler.\n",
      "  return self.partial_fit(X, y)\n",
      "/usr/local/lib/python3.6/dist-packages/sklearn/base.py:462: DataConversionWarning: Data with input dtype int64, float64 were all converted to float64 by StandardScaler.\n",
      "  return self.fit(X, **fit_params).transform(X)\n"
     ]
    },
    {
     "data": {
      "text/html": [
       "<div>\n",
       "<style scoped>\n",
       "    .dataframe tbody tr th:only-of-type {\n",
       "        vertical-align: middle;\n",
       "    }\n",
       "\n",
       "    .dataframe tbody tr th {\n",
       "        vertical-align: top;\n",
       "    }\n",
       "\n",
       "    .dataframe thead th {\n",
       "        text-align: right;\n",
       "    }\n",
       "</style>\n",
       "<table border=\"1\" class=\"dataframe\">\n",
       "  <thead>\n",
       "    <tr style=\"text-align: right;\">\n",
       "      <th></th>\n",
       "      <th>fixed acidity</th>\n",
       "      <th>volatile acidity</th>\n",
       "      <th>citric acid</th>\n",
       "      <th>residual sugar</th>\n",
       "      <th>chlorides</th>\n",
       "      <th>free sulfur dioxide</th>\n",
       "      <th>total sulfur dioxide</th>\n",
       "      <th>density</th>\n",
       "      <th>pH</th>\n",
       "      <th>sulphates</th>\n",
       "      <th>alcohol</th>\n",
       "      <th>quality</th>\n",
       "    </tr>\n",
       "  </thead>\n",
       "  <tbody>\n",
       "    <tr>\n",
       "      <th>0</th>\n",
       "      <td>0.142473</td>\n",
       "      <td>-1.091373</td>\n",
       "      <td>-0.128234</td>\n",
       "      <td>1.735549</td>\n",
       "      <td>-0.000967</td>\n",
       "      <td>0.139434</td>\n",
       "      <td>0.924588</td>\n",
       "      <td>1.185071</td>\n",
       "      <td>-1.981037</td>\n",
       "      <td>-0.613385</td>\n",
       "      <td>-1.502407</td>\n",
       "      <td>1.353228</td>\n",
       "    </tr>\n",
       "    <tr>\n",
       "      <th>1</th>\n",
       "      <td>-0.551792</td>\n",
       "      <td>0.123518</td>\n",
       "      <td>-0.059414</td>\n",
       "      <td>1.704019</td>\n",
       "      <td>-0.086605</td>\n",
       "      <td>-0.593041</td>\n",
       "      <td>-0.048561</td>\n",
       "      <td>0.247917</td>\n",
       "      <td>-0.115073</td>\n",
       "      <td>0.193097</td>\n",
       "      <td>0.426120</td>\n",
       "      <td>0.207999</td>\n",
       "    </tr>\n",
       "    <tr>\n",
       "      <th>2</th>\n",
       "      <td>0.836739</td>\n",
       "      <td>-0.180205</td>\n",
       "      <td>0.491146</td>\n",
       "      <td>-0.639680</td>\n",
       "      <td>0.627050</td>\n",
       "      <td>-0.762074</td>\n",
       "      <td>-1.287116</td>\n",
       "      <td>-0.085589</td>\n",
       "      <td>0.569114</td>\n",
       "      <td>1.604440</td>\n",
       "      <td>1.683855</td>\n",
       "      <td>1.353228</td>\n",
       "    </tr>\n",
       "    <tr>\n",
       "      <th>3</th>\n",
       "      <td>0.682458</td>\n",
       "      <td>2.705162</td>\n",
       "      <td>1.385805</td>\n",
       "      <td>-0.723758</td>\n",
       "      <td>1.883084</td>\n",
       "      <td>0.364811</td>\n",
       "      <td>0.659184</td>\n",
       "      <td>0.734837</td>\n",
       "      <td>-0.052874</td>\n",
       "      <td>1.066785</td>\n",
       "      <td>-0.999313</td>\n",
       "      <td>-0.937230</td>\n",
       "    </tr>\n",
       "    <tr>\n",
       "      <th>4</th>\n",
       "      <td>-0.551792</td>\n",
       "      <td>-0.605417</td>\n",
       "      <td>0.422326</td>\n",
       "      <td>-0.933956</td>\n",
       "      <td>-0.828807</td>\n",
       "      <td>0.026746</td>\n",
       "      <td>-0.455515</td>\n",
       "      <td>-1.813153</td>\n",
       "      <td>0.133722</td>\n",
       "      <td>-1.151040</td>\n",
       "      <td>1.516157</td>\n",
       "      <td>0.207999</td>\n",
       "    </tr>\n",
       "  </tbody>\n",
       "</table>\n",
       "</div>"
      ],
      "text/plain": [
       "   fixed acidity  volatile acidity  citric acid  residual sugar  chlorides  \\\n",
       "0       0.142473         -1.091373    -0.128234        1.735549  -0.000967   \n",
       "1      -0.551792          0.123518    -0.059414        1.704019  -0.086605   \n",
       "2       0.836739         -0.180205     0.491146       -0.639680   0.627050   \n",
       "3       0.682458          2.705162     1.385805       -0.723758   1.883084   \n",
       "4      -0.551792         -0.605417     0.422326       -0.933956  -0.828807   \n",
       "\n",
       "   free sulfur dioxide  total sulfur dioxide   density        pH  sulphates  \\\n",
       "0             0.139434              0.924588  1.185071 -1.981037  -0.613385   \n",
       "1            -0.593041             -0.048561  0.247917 -0.115073   0.193097   \n",
       "2            -0.762074             -1.287116 -0.085589  0.569114   1.604440   \n",
       "3             0.364811              0.659184  0.734837 -0.052874   1.066785   \n",
       "4             0.026746             -0.455515 -1.813153  0.133722  -1.151040   \n",
       "\n",
       "    alcohol   quality  \n",
       "0 -1.502407  1.353228  \n",
       "1  0.426120  0.207999  \n",
       "2  1.683855  1.353228  \n",
       "3 -0.999313 -0.937230  \n",
       "4  1.516157  0.207999  "
      ]
     },
     "execution_count": 7,
     "metadata": {},
     "output_type": "execute_result"
    }
   ],
   "source": [
    "scaler = preprocessing.StandardScaler()\n",
    "\n",
    "# Transform the feature\n",
    "standardized = scaler.fit_transform(X)\n",
    "\n",
    "# Show feature\n",
    "winesS = X.copy()\n",
    "winesS.iloc[0:,0:12] = standardized\n",
    "winesS.head()"
   ]
  },
  {
   "cell_type": "markdown",
   "metadata": {},
   "source": [
    "<h2>Configurando parâmetros dos classificadores</h2>"
   ]
  },
  {
   "cell_type": "code",
   "execution_count": 8,
   "metadata": {},
   "outputs": [],
   "source": [
    "#CLASSIFIER 1\n",
    "clf1 = DecisionTreeClassifier(criterion='gini',max_features=\"sqrt\", random_state=0)\n",
    "#CLASSIFIER 2\n",
    "clf2 = DecisionTreeClassifier(criterion='gini',max_features=\"log2\", random_state=0)\n",
    "#CLASSIFIER 3\n",
    "clf3 = DecisionTreeClassifier(criterion='gini', random_state=0) #max_features = None <==> max_features = n_features\n",
    "#CLASSIFIER 4\n",
    "clf4 = DecisionTreeClassifier(criterion='entropy',max_features=\"sqrt\", random_state=0)\n",
    "#CLASSIFIER 5\n",
    "clf5 = DecisionTreeClassifier(criterion='entropy',max_features=\"log2\", random_state=0)\n",
    "#CLASSIFIER 6\n",
    "clf6 = DecisionTreeClassifier(criterion='entropy', random_state=0)"
   ]
  },
  {
   "cell_type": "markdown",
   "metadata": {},
   "source": [
    "<h2>Treinando e Testando</h2>"
   ]
  },
  {
   "cell_type": "code",
   "execution_count": 12,
   "metadata": {},
   "outputs": [],
   "source": [
    "scors1 = cross_validation(winesS,clf1)\n",
    "scors2 = cross_validation(winesS,clf2)\n",
    "scors3 = cross_validation(winesS,clf3)\n",
    "scors4 = cross_validation(winesS,clf4)\n",
    "scors5 = cross_validation(winesS,clf5)\n",
    "scors6 = cross_validation(winesS,clf6)"
   ]
  },
  {
   "cell_type": "code",
   "execution_count": 41,
   "metadata": {},
   "outputs": [
    {
     "data": {
      "text/plain": [
       "[[98.46153846153847, 98.78048780487805, 98.9816700610998, 99.18367346938776],\n",
       " [99.23076923076923, 99.5959595959596, 99.4954591321897, 99.39516129032258],\n",
       " [98.3076923076923, 98.7551867219917, 98.85773624091382, 98.96049896049897],\n",
       " [98.61538461538461, 99.1578947368421, 99.05362776025235, 98.94957983193278],\n",
       " [98.46153846153847, 98.7878787878788, 98.98785425101214, 99.18864097363083],\n",
       " [99.38461538461539, 100.0, 99.59266802443992, 99.18864097363083],\n",
       " [98.76923076923076, 98.59154929577466, 99.1902834008097, 99.79633401221996],\n",
       " [99.07550077041603, 99.38271604938271, 99.38271604938271, 99.38271604938271],\n",
       " [98.92141756548536, 99.59758551307847, 99.29789368104313, 99.0],\n",
       " [99.22958397534669, 99.39148073022312, 99.49238578680205, 99.59349593495935]]"
      ]
     },
     "execution_count": 41,
     "metadata": {},
     "output_type": "execute_result"
    }
   ],
   "source": [
    "scors6"
   ]
  },
  {
   "cell_type": "code",
   "execution_count": 43,
   "metadata": {},
   "outputs": [
    {
     "data": {
      "image/png": "[encoded data removed]",
      "text/plain": [
       "<matplotlib.figure.Figure at 0x7fd40585bba8>"
      ]
     },
     "metadata": {
      "needs_background": "light"
     },
     "output_type": "display_data"
    }
   ],
   "source": [
    "plot_graph(scors6)"
   ]
  },
  {
   "cell_type": "code",
   "execution_count": null,
   "metadata": {},
   "outputs": [],
   "source": []
  }
 ],
 "metadata": {
  "kernelspec": {
   "display_name": "Python 3",
   "language": "python",
   "name": "python3"
  },
  "language_info": {
   "codemirror_mode": {
    "name": "ipython",
    "version": 3
   },
   "file_extension": ".py",
   "mimetype": "text/x-python",
   "name": "python",
   "nbconvert_exporter": "python",
   "pygments_lexer": "ipython3",
   "version": "3.6.7"
  }
 },
 "nbformat": 4,
 "nbformat_minor": 2
}
