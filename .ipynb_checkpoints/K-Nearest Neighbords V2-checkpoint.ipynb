{
 "cells": [
  {
   "cell_type": "code",
   "execution_count": 3,
   "metadata": {},
   "outputs": [],
   "source": [
    "import pandas as pd\n",
    "import csv\n",
    "import matplotlib.pyplot as plt\n",
    "from sklearn.model_selection import KFold\n",
    "from sklearn.metrics import accuracy_score, f1_score, precision_score, recall_score,confusion_matrix,classification_report\n",
    "from sklearn import preprocessing\n",
    "from sklearn.preprocessing import Normalizer,MinMaxScaler\n",
    "import numpy as np\n",
    "from sklearn.model_selection import train_test_split\n",
    "from sklearn.ensemble import RandomForestClassifier"
   ]
  },
  {
   "cell_type": "code",
   "execution_count": 20,
   "metadata": {},
   "outputs": [],
   "source": [
    "def scores(y_test,prediction):\n",
    "#     print(\"Accuracy: \" + str(accuracy_score(y_test, prediction) * 100) + \"%\")\n",
    "#     print(\"Precision: \" + str(precision_score(y_test, prediction) * 100) + \"%\")\n",
    "#     print(\"F1 score: \" + str(f1_score(y_test, prediction) * 100) + \"%\")\n",
    "#     print(\"Recall: \" + str(recall_score(y_test, prediction) * 100) + \"%\")\n",
    "    scores = []\n",
    "    scores.append(accuracy_score(y_test, prediction) * 100)\n",
    "    scores.append(precision_score(y_test, prediction) * 100)\n",
    "    scores.append(f1_score(y_test, prediction) * 100)\n",
    "    scores.append(recall_score(y_test, prediction) * 100) \n",
    "    #print('Accuracy:',accuracy_score(y_test, prediction) * 100,'%')\n",
    "    #print(confusion_matrix(y_test,prediction))\n",
    "    #print(classification_report(y_test, prediction, target_names=[\"red wine\",\"white wine\"]))\n",
    "    return scores"
   ]
  },
  {
   "cell_type": "code",
   "execution_count": 19,
   "metadata": {},
   "outputs": [],
   "source": [
    "def cross_validation(dados,clf,folds=10):\n",
    "    scor = []\n",
    "    kf = KFold(n_splits=folds)\n",
    "    for train_index, test_index in kf.split(dados):\n",
    "        X_train, X_test = dados.iloc[train_index], dados.iloc[test_index]\n",
    "        y_train, y_test = Y[train_index], Y[test_index]\n",
    "        model = clf.fit(X_train,y_train)\n",
    "        prediction = model.predict(X_test)\n",
    "        scor.append(scores(y_test,prediction))\n",
    "    return scor"
   ]
  },
  {
   "cell_type": "code",
   "execution_count": 16,
   "metadata": {},
   "outputs": [],
   "source": [
    "#carregando dataset de vinhos brancos e vermelhos\n",
    "wines = pd.read_csv('wines.csv',sep=\",\")\n",
    "#separando dados e saidas\n",
    "X = wines.iloc[:,0:12]\n",
    "Y = wines.iloc[:,-1]\n",
    "X_train, X_test, y_train, y_test = train_test_split( X, Y, test_size=0.20, random_state=42)"
   ]
  },
  {
   "cell_type": "code",
   "execution_count": 17,
   "metadata": {},
   "outputs": [],
   "source": [
    "# Classifier 1\n",
    "clf1 = RandomForestClassifier(criterion = \"gini\",n_estimators=10,n_jobs=2, random_state=0)\n",
    "# Classifier 2\n",
    "clf2 = RandomForestClassifier(criterion = \"gini\",n_estimators=100,n_jobs=2, random_state=0)\n",
    "# Classifier 3\n",
    "clf3 = RandomForestClassifier(criterion = \"gini\",n_estimators=1000,n_jobs=2, random_state=0)\n",
    "# Classifier 4\n",
    "clf4 = RandomForestClassifier(criterion = \"entropy\",n_estimators=10,n_jobs=2, random_state=0)\n",
    "# Classifier 5\n",
    "clf5 = RandomForestClassifier(criterion = \"entropy\",n_estimators=100,n_jobs=2, random_state=0)\n",
    "# Classifier 6\n",
    "clf6 = RandomForestClassifier(criterion = \"entropy\",n_estimators=1000,n_jobs=2, random_state=0)"
   ]
  },
  {
   "cell_type": "code",
   "execution_count": 11,
   "metadata": {},
   "outputs": [
    {
     "name": "stderr",
     "output_type": "stream",
     "text": [
      "C:\\Users\\Paulo Alencar\\Anaconda3\\lib\\site-packages\\sklearn\\preprocessing\\data.py:645: DataConversionWarning: Data with input dtype int64, float64 were all converted to float64 by StandardScaler.\n",
      "  return self.partial_fit(X, y)\n",
      "C:\\Users\\Paulo Alencar\\Anaconda3\\lib\\site-packages\\sklearn\\base.py:464: DataConversionWarning: Data with input dtype int64, float64 were all converted to float64 by StandardScaler.\n",
      "  return self.fit(X, **fit_params).transform(X)\n"
     ]
    },
    {
     "data": {
      "text/html": [
       "<div>\n",
       "<style scoped>\n",
       "    .dataframe tbody tr th:only-of-type {\n",
       "        vertical-align: middle;\n",
       "    }\n",
       "\n",
       "    .dataframe tbody tr th {\n",
       "        vertical-align: top;\n",
       "    }\n",
       "\n",
       "    .dataframe thead th {\n",
       "        text-align: right;\n",
       "    }\n",
       "</style>\n",
       "<table border=\"1\" class=\"dataframe\">\n",
       "  <thead>\n",
       "    <tr style=\"text-align: right;\">\n",
       "      <th></th>\n",
       "      <th>fixed acidity</th>\n",
       "      <th>volatile acidity</th>\n",
       "      <th>citric acid</th>\n",
       "      <th>residual sugar</th>\n",
       "      <th>chlorides</th>\n",
       "      <th>free sulfur dioxide</th>\n",
       "      <th>total sulfur dioxide</th>\n",
       "      <th>density</th>\n",
       "      <th>pH</th>\n",
       "      <th>sulphates</th>\n",
       "      <th>alcohol</th>\n",
       "      <th>quality</th>\n",
       "    </tr>\n",
       "  </thead>\n",
       "  <tbody>\n",
       "    <tr>\n",
       "      <th>0</th>\n",
       "      <td>0.142473</td>\n",
       "      <td>-1.091373</td>\n",
       "      <td>-0.128234</td>\n",
       "      <td>1.735549</td>\n",
       "      <td>-0.000967</td>\n",
       "      <td>0.139434</td>\n",
       "      <td>0.924588</td>\n",
       "      <td>1.185071</td>\n",
       "      <td>-1.981037</td>\n",
       "      <td>-0.613385</td>\n",
       "      <td>-1.502407</td>\n",
       "      <td>1.353228</td>\n",
       "    </tr>\n",
       "    <tr>\n",
       "      <th>1</th>\n",
       "      <td>-0.551792</td>\n",
       "      <td>0.123518</td>\n",
       "      <td>-0.059414</td>\n",
       "      <td>1.704019</td>\n",
       "      <td>-0.086605</td>\n",
       "      <td>-0.593041</td>\n",
       "      <td>-0.048561</td>\n",
       "      <td>0.247917</td>\n",
       "      <td>-0.115073</td>\n",
       "      <td>0.193097</td>\n",
       "      <td>0.426120</td>\n",
       "      <td>0.207999</td>\n",
       "    </tr>\n",
       "    <tr>\n",
       "      <th>2</th>\n",
       "      <td>0.836739</td>\n",
       "      <td>-0.180205</td>\n",
       "      <td>0.491146</td>\n",
       "      <td>-0.639680</td>\n",
       "      <td>0.627050</td>\n",
       "      <td>-0.762074</td>\n",
       "      <td>-1.287116</td>\n",
       "      <td>-0.085589</td>\n",
       "      <td>0.569114</td>\n",
       "      <td>1.604440</td>\n",
       "      <td>1.683855</td>\n",
       "      <td>1.353228</td>\n",
       "    </tr>\n",
       "    <tr>\n",
       "      <th>3</th>\n",
       "      <td>0.682458</td>\n",
       "      <td>2.705162</td>\n",
       "      <td>1.385805</td>\n",
       "      <td>-0.723758</td>\n",
       "      <td>1.883084</td>\n",
       "      <td>0.364811</td>\n",
       "      <td>0.659184</td>\n",
       "      <td>0.734837</td>\n",
       "      <td>-0.052874</td>\n",
       "      <td>1.066785</td>\n",
       "      <td>-0.999313</td>\n",
       "      <td>-0.937230</td>\n",
       "    </tr>\n",
       "    <tr>\n",
       "      <th>4</th>\n",
       "      <td>-0.551792</td>\n",
       "      <td>-0.605417</td>\n",
       "      <td>0.422326</td>\n",
       "      <td>-0.933956</td>\n",
       "      <td>-0.828807</td>\n",
       "      <td>0.026746</td>\n",
       "      <td>-0.455515</td>\n",
       "      <td>-1.813153</td>\n",
       "      <td>0.133722</td>\n",
       "      <td>-1.151040</td>\n",
       "      <td>1.516157</td>\n",
       "      <td>0.207999</td>\n",
       "    </tr>\n",
       "  </tbody>\n",
       "</table>\n",
       "</div>"
      ],
      "text/plain": [
       "   fixed acidity  volatile acidity  citric acid  residual sugar  chlorides  \\\n",
       "0       0.142473         -1.091373    -0.128234        1.735549  -0.000967   \n",
       "1      -0.551792          0.123518    -0.059414        1.704019  -0.086605   \n",
       "2       0.836739         -0.180205     0.491146       -0.639680   0.627050   \n",
       "3       0.682458          2.705162     1.385805       -0.723758   1.883084   \n",
       "4      -0.551792         -0.605417     0.422326       -0.933956  -0.828807   \n",
       "\n",
       "   free sulfur dioxide  total sulfur dioxide   density        pH  sulphates  \\\n",
       "0             0.139434              0.924588  1.185071 -1.981037  -0.613385   \n",
       "1            -0.593041             -0.048561  0.247917 -0.115073   0.193097   \n",
       "2            -0.762074             -1.287116 -0.085589  0.569114   1.604440   \n",
       "3             0.364811              0.659184  0.734837 -0.052874   1.066785   \n",
       "4             0.026746             -0.455515 -1.813153  0.133722  -1.151040   \n",
       "\n",
       "    alcohol   quality  \n",
       "0 -1.502407  1.353228  \n",
       "1  0.426120  0.207999  \n",
       "2  1.683855  1.353228  \n",
       "3 -0.999313 -0.937230  \n",
       "4  1.516157  0.207999  "
      ]
     },
     "execution_count": 11,
     "metadata": {},
     "output_type": "execute_result"
    }
   ],
   "source": [
    "# Create scaler\n",
    "scaler = preprocessing.StandardScaler()\n",
    "\n",
    "# Transform the feature\n",
    "standardized = scaler.fit_transform(X)\n",
    "\n",
    "# Show feature\n",
    "winesS = X.copy()\n",
    "winesS.iloc[0:,0:12] = standardized\n",
    "winesS.head()"
   ]
  },
  {
   "cell_type": "code",
   "execution_count": 21,
   "metadata": {},
   "outputs": [],
   "source": [
    "scors1 = cross_validation(winesS,clf1)\n",
    "scors2 = cross_validation(winesS,clf2)\n",
    "scors3 = cross_validation(winesS,clf3)\n",
    "scors4 = cross_validation(winesS,clf4)\n",
    "scors5 = cross_validation(winesS,clf5)\n",
    "scors6 = cross_validation(winesS,clf6)"
   ]
  },
  {
   "cell_type": "code",
   "execution_count": 29,
   "metadata": {},
   "outputs": [
    {
     "data": {
      "text/plain": [
       "[[99.53846153846155, 99.59266802443992, 99.6941896024465, 99.79591836734694],\n",
       " [99.84615384615385, 100.0, 99.89909182643794, 99.79838709677419],\n",
       " [99.38461538461539, 99.37888198757764, 99.58506224066389, 99.7920997920998],\n",
       " [99.53846153846155, 99.37369519832986, 99.68586387434554, 100.0],\n",
       " [98.76923076923076, 98.79275653923541, 99.19191919191918, 99.59432048681542],\n",
       " [99.6923076923077, 100.0, 99.79674796747969, 99.59432048681542],\n",
       " [99.23076923076923, 99.19028340080972, 99.49238578680205, 99.79633401221996],\n",
       " [99.69183359013869, 99.79423868312757, 99.79423868312757, 99.79423868312757],\n",
       " [99.07550077041603, 99.4, 99.4, 99.4],\n",
       " [99.69183359013869, 99.79674796747967, 99.79674796747967, 99.79674796747967]]"
      ]
     },
     "execution_count": 29,
     "metadata": {},
     "output_type": "execute_result"
    }
   ],
   "source": [
    "scors4"
   ]
  },
  {
   "cell_type": "code",
   "execution_count": null,
   "metadata": {},
   "outputs": [],
   "source": [
    "def plot_graph(scor, pp):\n",
    "    measures = [\"accuracy\",\"precision\",\"f1-score\",\"recall\"]\n",
    "    data = {s:{'Run '+str(i):scor[i][k] for i in range(10)}for k,s in enumerate(measures)}\n",
    "    df = pd.DataFrame(data)\n",
    "\n",
    "    df.plot(kind='barh',figsize=(20,20))\n",
    "\n",
    "    for i in range(97,101):\n",
    "        plt.axvline(x=i, color='k', linestyle='--')\n",
    "\n",
    "    plt.xlim(96,101)\n",
    "    plt.title('Random forest x '+pp+' x 100 decision trees')\n",
    "    plt.savefig('images_graphs/'+pp+'rf100.png')\n",
    "    plt.show()\n",
    "import matplotlib\n",
    "font = {'family' : 'normal',\n",
    "        'weight' : 'bold',\n",
    "        'size'   : 22}\n",
    "\n",
    "matplotlib.rc('font', **font)"
   ]
  },
  {
   "cell_type": "code",
   "execution_count": null,
   "metadata": {},
   "outputs": [],
   "source": [
    "pps = ['Standard Scaler']\n",
    "scs = [scorss]\n",
    "for pp,sc in zip(pps,scs):\n",
    "    plot_graph(sc,pp)"
   ]
  }
 ],
 "metadata": {
  "kernelspec": {
   "display_name": "Python 3",
   "language": "python",
   "name": "python3"
  },
  "language_info": {
   "codemirror_mode": {
    "name": "ipython",
    "version": 3
   },
   "file_extension": ".py",
   "mimetype": "text/x-python",
   "name": "python",
   "nbconvert_exporter": "python",
   "pygments_lexer": "ipython3",
   "version": "3.7.3"
  }
 },
 "nbformat": 4,
 "nbformat_minor": 2
}
